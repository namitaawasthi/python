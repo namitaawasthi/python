{
  "nbformat": 4,
  "nbformat_minor": 0,
  "metadata": {
    "colab": {
      "name": "Copy of day1.ipynb",
      "provenance": [],
      "collapsed_sections": []
    },
    "kernelspec": {
      "name": "python3",
      "display_name": "Python 3"
    },
    "language_info": {
      "name": "python"
    }
  },
  "cells": [
    {
      "cell_type": "code",
      "metadata": {
        "colab": {
          "base_uri": "https://localhost:8080/"
        },
        "id": "KPYjuxZS65VT",
        "outputId": "2eb99657-6d6f-48e7-d6b5-fce0da09d7d2"
      },
      "source": [
        "\n",
        " # number of elements as input\n",
        "li = input(\"Enter number of elements : \") \n",
        "# Sorting list of Integers in descending\n",
        "a= li.split()\n",
        "a.sort(reverse = True)\n",
        "  \n",
        "print(a)"
      ],
      "execution_count": null,
      "outputs": [
        {
          "output_type": "stream",
          "text": [
            "Enter number of elements : 9 5 8 1 6 7\n",
            "['9', '8', '7', '6', '5', '1']\n"
          ],
          "name": "stdout"
        }
      ]
    }
  ]
}